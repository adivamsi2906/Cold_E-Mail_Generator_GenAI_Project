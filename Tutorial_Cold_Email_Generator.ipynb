{
 "cells": [
  {
   "cell_type": "code",
   "execution_count": 1,
   "id": "6df194ea-9e36-40e6-8ca5-f6a0d87c4cd4",
   "metadata": {},
   "outputs": [
    {
     "name": "stdout",
     "output_type": "stream",
     "text": [
      "Requirement already satisfied: langchain in c:\\users\\anura\\anaconda3\\lib\\site-packages (0.3.26)\n",
      "Requirement already satisfied: langchain-core<1.0.0,>=0.3.66 in c:\\users\\anura\\anaconda3\\lib\\site-packages (from langchain) (0.3.66)\n",
      "Requirement already satisfied: langchain-text-splitters<1.0.0,>=0.3.8 in c:\\users\\anura\\anaconda3\\lib\\site-packages (from langchain) (0.3.8)\n",
      "Requirement already satisfied: langsmith>=0.1.17 in c:\\users\\anura\\anaconda3\\lib\\site-packages (from langchain) (0.4.1)\n",
      "Requirement already satisfied: pydantic<3.0.0,>=2.7.4 in c:\\users\\anura\\anaconda3\\lib\\site-packages (from langchain) (2.8.2)\n",
      "Requirement already satisfied: SQLAlchemy<3,>=1.4 in c:\\users\\anura\\anaconda3\\lib\\site-packages (from langchain) (2.0.34)\n",
      "Requirement already satisfied: requests<3,>=2 in c:\\users\\anura\\anaconda3\\lib\\site-packages (from langchain) (2.32.3)\n",
      "Requirement already satisfied: PyYAML>=5.3 in c:\\users\\anura\\anaconda3\\lib\\site-packages (from langchain) (6.0.1)\n",
      "Requirement already satisfied: tenacity!=8.4.0,<10.0.0,>=8.1.0 in c:\\users\\anura\\anaconda3\\lib\\site-packages (from langchain-core<1.0.0,>=0.3.66->langchain) (8.2.3)\n",
      "Requirement already satisfied: jsonpatch<2.0,>=1.33 in c:\\users\\anura\\anaconda3\\lib\\site-packages (from langchain-core<1.0.0,>=0.3.66->langchain) (1.33)\n",
      "Requirement already satisfied: packaging<25,>=23.2 in c:\\users\\anura\\anaconda3\\lib\\site-packages (from langchain-core<1.0.0,>=0.3.66->langchain) (24.1)\n",
      "Requirement already satisfied: typing-extensions>=4.7 in c:\\users\\anura\\anaconda3\\lib\\site-packages (from langchain-core<1.0.0,>=0.3.66->langchain) (4.11.0)\n",
      "Requirement already satisfied: httpx<1,>=0.23.0 in c:\\users\\anura\\anaconda3\\lib\\site-packages (from langsmith>=0.1.17->langchain) (0.27.0)\n",
      "Requirement already satisfied: orjson<4.0.0,>=3.9.14 in c:\\users\\anura\\anaconda3\\lib\\site-packages (from langsmith>=0.1.17->langchain) (3.10.18)\n",
      "Requirement already satisfied: requests-toolbelt<2.0.0,>=1.0.0 in c:\\users\\anura\\anaconda3\\lib\\site-packages (from langsmith>=0.1.17->langchain) (1.0.0)\n",
      "Requirement already satisfied: zstandard<0.24.0,>=0.23.0 in c:\\users\\anura\\anaconda3\\lib\\site-packages (from langsmith>=0.1.17->langchain) (0.23.0)\n",
      "Requirement already satisfied: annotated-types>=0.4.0 in c:\\users\\anura\\anaconda3\\lib\\site-packages (from pydantic<3.0.0,>=2.7.4->langchain) (0.6.0)\n",
      "Requirement already satisfied: pydantic-core==2.20.1 in c:\\users\\anura\\anaconda3\\lib\\site-packages (from pydantic<3.0.0,>=2.7.4->langchain) (2.20.1)\n",
      "Requirement already satisfied: charset-normalizer<4,>=2 in c:\\users\\anura\\anaconda3\\lib\\site-packages (from requests<3,>=2->langchain) (3.3.2)\n",
      "Requirement already satisfied: idna<4,>=2.5 in c:\\users\\anura\\anaconda3\\lib\\site-packages (from requests<3,>=2->langchain) (3.7)\n",
      "Requirement already satisfied: urllib3<3,>=1.21.1 in c:\\users\\anura\\anaconda3\\lib\\site-packages (from requests<3,>=2->langchain) (2.2.3)\n",
      "Requirement already satisfied: certifi>=2017.4.17 in c:\\users\\anura\\anaconda3\\lib\\site-packages (from requests<3,>=2->langchain) (2025.4.26)\n",
      "Requirement already satisfied: greenlet!=0.4.17 in c:\\users\\anura\\anaconda3\\lib\\site-packages (from SQLAlchemy<3,>=1.4->langchain) (3.0.1)\n",
      "Requirement already satisfied: anyio in c:\\users\\anura\\anaconda3\\lib\\site-packages (from httpx<1,>=0.23.0->langsmith>=0.1.17->langchain) (4.2.0)\n",
      "Requirement already satisfied: httpcore==1.* in c:\\users\\anura\\anaconda3\\lib\\site-packages (from httpx<1,>=0.23.0->langsmith>=0.1.17->langchain) (1.0.2)\n",
      "Requirement already satisfied: sniffio in c:\\users\\anura\\anaconda3\\lib\\site-packages (from httpx<1,>=0.23.0->langsmith>=0.1.17->langchain) (1.3.0)\n",
      "Requirement already satisfied: h11<0.15,>=0.13 in c:\\users\\anura\\anaconda3\\lib\\site-packages (from httpcore==1.*->httpx<1,>=0.23.0->langsmith>=0.1.17->langchain) (0.14.0)\n",
      "Requirement already satisfied: jsonpointer>=1.9 in c:\\users\\anura\\anaconda3\\lib\\site-packages (from jsonpatch<2.0,>=1.33->langchain-core<1.0.0,>=0.3.66->langchain) (2.1)\n",
      "Note: you may need to restart the kernel to use updated packages.\n",
      "Requirement already satisfied: langchain_groq in c:\\users\\anura\\anaconda3\\lib\\site-packages (0.3.4)\n",
      "Requirement already satisfied: langchain-core<1.0.0,>=0.3.66 in c:\\users\\anura\\anaconda3\\lib\\site-packages (from langchain_groq) (0.3.66)\n",
      "Requirement already satisfied: groq<1,>=0.28.0 in c:\\users\\anura\\anaconda3\\lib\\site-packages (from langchain_groq) (0.28.0)\n",
      "Requirement already satisfied: anyio<5,>=3.5.0 in c:\\users\\anura\\anaconda3\\lib\\site-packages (from groq<1,>=0.28.0->langchain_groq) (4.2.0)\n",
      "Requirement already satisfied: distro<2,>=1.7.0 in c:\\users\\anura\\anaconda3\\lib\\site-packages (from groq<1,>=0.28.0->langchain_groq) (1.9.0)\n",
      "Requirement already satisfied: httpx<1,>=0.23.0 in c:\\users\\anura\\anaconda3\\lib\\site-packages (from groq<1,>=0.28.0->langchain_groq) (0.27.0)\n",
      "Requirement already satisfied: pydantic<3,>=1.9.0 in c:\\users\\anura\\anaconda3\\lib\\site-packages (from groq<1,>=0.28.0->langchain_groq) (2.8.2)\n",
      "Requirement already satisfied: sniffio in c:\\users\\anura\\anaconda3\\lib\\site-packages (from groq<1,>=0.28.0->langchain_groq) (1.3.0)\n",
      "Requirement already satisfied: typing-extensions<5,>=4.10 in c:\\users\\anura\\anaconda3\\lib\\site-packages (from groq<1,>=0.28.0->langchain_groq) (4.11.0)\n",
      "Requirement already satisfied: langsmith>=0.3.45 in c:\\users\\anura\\anaconda3\\lib\\site-packages (from langchain-core<1.0.0,>=0.3.66->langchain_groq) (0.4.1)\n",
      "Requirement already satisfied: tenacity!=8.4.0,<10.0.0,>=8.1.0 in c:\\users\\anura\\anaconda3\\lib\\site-packages (from langchain-core<1.0.0,>=0.3.66->langchain_groq) (8.2.3)\n",
      "Requirement already satisfied: jsonpatch<2.0,>=1.33 in c:\\users\\anura\\anaconda3\\lib\\site-packages (from langchain-core<1.0.0,>=0.3.66->langchain_groq) (1.33)\n",
      "Requirement already satisfied: PyYAML>=5.3 in c:\\users\\anura\\anaconda3\\lib\\site-packages (from langchain-core<1.0.0,>=0.3.66->langchain_groq) (6.0.1)\n",
      "Requirement already satisfied: packaging<25,>=23.2 in c:\\users\\anura\\anaconda3\\lib\\site-packages (from langchain-core<1.0.0,>=0.3.66->langchain_groq) (24.1)\n",
      "Requirement already satisfied: idna>=2.8 in c:\\users\\anura\\anaconda3\\lib\\site-packages (from anyio<5,>=3.5.0->groq<1,>=0.28.0->langchain_groq) (3.7)\n",
      "Requirement already satisfied: certifi in c:\\users\\anura\\anaconda3\\lib\\site-packages (from httpx<1,>=0.23.0->groq<1,>=0.28.0->langchain_groq) (2025.4.26)\n",
      "Requirement already satisfied: httpcore==1.* in c:\\users\\anura\\anaconda3\\lib\\site-packages (from httpx<1,>=0.23.0->groq<1,>=0.28.0->langchain_groq) (1.0.2)\n",
      "Requirement already satisfied: h11<0.15,>=0.13 in c:\\users\\anura\\anaconda3\\lib\\site-packages (from httpcore==1.*->httpx<1,>=0.23.0->groq<1,>=0.28.0->langchain_groq) (0.14.0)\n",
      "Requirement already satisfied: jsonpointer>=1.9 in c:\\users\\anura\\anaconda3\\lib\\site-packages (from jsonpatch<2.0,>=1.33->langchain-core<1.0.0,>=0.3.66->langchain_groq) (2.1)\n",
      "Requirement already satisfied: orjson<4.0.0,>=3.9.14 in c:\\users\\anura\\anaconda3\\lib\\site-packages (from langsmith>=0.3.45->langchain-core<1.0.0,>=0.3.66->langchain_groq) (3.10.18)\n",
      "Requirement already satisfied: requests<3,>=2 in c:\\users\\anura\\anaconda3\\lib\\site-packages (from langsmith>=0.3.45->langchain-core<1.0.0,>=0.3.66->langchain_groq) (2.32.3)\n",
      "Requirement already satisfied: requests-toolbelt<2.0.0,>=1.0.0 in c:\\users\\anura\\anaconda3\\lib\\site-packages (from langsmith>=0.3.45->langchain-core<1.0.0,>=0.3.66->langchain_groq) (1.0.0)\n",
      "Requirement already satisfied: zstandard<0.24.0,>=0.23.0 in c:\\users\\anura\\anaconda3\\lib\\site-packages (from langsmith>=0.3.45->langchain-core<1.0.0,>=0.3.66->langchain_groq) (0.23.0)\n",
      "Requirement already satisfied: annotated-types>=0.4.0 in c:\\users\\anura\\anaconda3\\lib\\site-packages (from pydantic<3,>=1.9.0->groq<1,>=0.28.0->langchain_groq) (0.6.0)\n",
      "Requirement already satisfied: pydantic-core==2.20.1 in c:\\users\\anura\\anaconda3\\lib\\site-packages (from pydantic<3,>=1.9.0->groq<1,>=0.28.0->langchain_groq) (2.20.1)\n",
      "Requirement already satisfied: charset-normalizer<4,>=2 in c:\\users\\anura\\anaconda3\\lib\\site-packages (from requests<3,>=2->langsmith>=0.3.45->langchain-core<1.0.0,>=0.3.66->langchain_groq) (3.3.2)\n",
      "Requirement already satisfied: urllib3<3,>=1.21.1 in c:\\users\\anura\\anaconda3\\lib\\site-packages (from requests<3,>=2->langsmith>=0.3.45->langchain-core<1.0.0,>=0.3.66->langchain_groq) (2.2.3)\n",
      "Note: you may need to restart the kernel to use updated packages.\n",
      "Requirement already satisfied: langchain_community in c:\\users\\anura\\anaconda3\\lib\\site-packages (0.3.26)\n",
      "Requirement already satisfied: langchain-core<1.0.0,>=0.3.66 in c:\\users\\anura\\anaconda3\\lib\\site-packages (from langchain_community) (0.3.66)\n",
      "Requirement already satisfied: langchain<1.0.0,>=0.3.26 in c:\\users\\anura\\anaconda3\\lib\\site-packages (from langchain_community) (0.3.26)\n",
      "Requirement already satisfied: SQLAlchemy<3,>=1.4 in c:\\users\\anura\\anaconda3\\lib\\site-packages (from langchain_community) (2.0.34)\n",
      "Requirement already satisfied: requests<3,>=2 in c:\\users\\anura\\anaconda3\\lib\\site-packages (from langchain_community) (2.32.3)\n",
      "Requirement already satisfied: PyYAML>=5.3 in c:\\users\\anura\\anaconda3\\lib\\site-packages (from langchain_community) (6.0.1)\n",
      "Requirement already satisfied: aiohttp<4.0.0,>=3.8.3 in c:\\users\\anura\\anaconda3\\lib\\site-packages (from langchain_community) (3.10.5)\n",
      "Requirement already satisfied: tenacity!=8.4.0,<10,>=8.1.0 in c:\\users\\anura\\anaconda3\\lib\\site-packages (from langchain_community) (8.2.3)\n",
      "Requirement already satisfied: dataclasses-json<0.7,>=0.5.7 in c:\\users\\anura\\anaconda3\\lib\\site-packages (from langchain_community) (0.6.7)\n",
      "Requirement already satisfied: pydantic-settings<3.0.0,>=2.4.0 in c:\\users\\anura\\anaconda3\\lib\\site-packages (from langchain_community) (2.6.1)\n",
      "Requirement already satisfied: langsmith>=0.1.125 in c:\\users\\anura\\anaconda3\\lib\\site-packages (from langchain_community) (0.4.1)\n",
      "Requirement already satisfied: httpx-sse<1.0.0,>=0.4.0 in c:\\users\\anura\\anaconda3\\lib\\site-packages (from langchain_community) (0.4.1)\n",
      "Requirement already satisfied: numpy>=1.26.2 in c:\\users\\anura\\anaconda3\\lib\\site-packages (from langchain_community) (1.26.4)\n",
      "Requirement already satisfied: aiohappyeyeballs>=2.3.0 in c:\\users\\anura\\anaconda3\\lib\\site-packages (from aiohttp<4.0.0,>=3.8.3->langchain_community) (2.4.0)\n",
      "Requirement already satisfied: aiosignal>=1.1.2 in c:\\users\\anura\\anaconda3\\lib\\site-packages (from aiohttp<4.0.0,>=3.8.3->langchain_community) (1.2.0)\n",
      "Requirement already satisfied: attrs>=17.3.0 in c:\\users\\anura\\anaconda3\\lib\\site-packages (from aiohttp<4.0.0,>=3.8.3->langchain_community) (23.1.0)\n",
      "Requirement already satisfied: frozenlist>=1.1.1 in c:\\users\\anura\\anaconda3\\lib\\site-packages (from aiohttp<4.0.0,>=3.8.3->langchain_community) (1.4.0)\n",
      "Requirement already satisfied: multidict<7.0,>=4.5 in c:\\users\\anura\\anaconda3\\lib\\site-packages (from aiohttp<4.0.0,>=3.8.3->langchain_community) (6.0.4)\n",
      "Requirement already satisfied: yarl<2.0,>=1.0 in c:\\users\\anura\\anaconda3\\lib\\site-packages (from aiohttp<4.0.0,>=3.8.3->langchain_community) (1.11.0)\n",
      "Requirement already satisfied: marshmallow<4.0.0,>=3.18.0 in c:\\users\\anura\\anaconda3\\lib\\site-packages (from dataclasses-json<0.7,>=0.5.7->langchain_community) (3.26.1)\n",
      "Requirement already satisfied: typing-inspect<1,>=0.4.0 in c:\\users\\anura\\anaconda3\\lib\\site-packages (from dataclasses-json<0.7,>=0.5.7->langchain_community) (0.9.0)\n",
      "Requirement already satisfied: langchain-text-splitters<1.0.0,>=0.3.8 in c:\\users\\anura\\anaconda3\\lib\\site-packages (from langchain<1.0.0,>=0.3.26->langchain_community) (0.3.8)\n",
      "Requirement already satisfied: pydantic<3.0.0,>=2.7.4 in c:\\users\\anura\\anaconda3\\lib\\site-packages (from langchain<1.0.0,>=0.3.26->langchain_community) (2.8.2)\n",
      "Requirement already satisfied: jsonpatch<2.0,>=1.33 in c:\\users\\anura\\anaconda3\\lib\\site-packages (from langchain-core<1.0.0,>=0.3.66->langchain_community) (1.33)\n",
      "Requirement already satisfied: packaging<25,>=23.2 in c:\\users\\anura\\anaconda3\\lib\\site-packages (from langchain-core<1.0.0,>=0.3.66->langchain_community) (24.1)\n",
      "Requirement already satisfied: typing-extensions>=4.7 in c:\\users\\anura\\anaconda3\\lib\\site-packages (from langchain-core<1.0.0,>=0.3.66->langchain_community) (4.11.0)\n",
      "Requirement already satisfied: httpx<1,>=0.23.0 in c:\\users\\anura\\anaconda3\\lib\\site-packages (from langsmith>=0.1.125->langchain_community) (0.27.0)\n",
      "Requirement already satisfied: orjson<4.0.0,>=3.9.14 in c:\\users\\anura\\anaconda3\\lib\\site-packages (from langsmith>=0.1.125->langchain_community) (3.10.18)\n",
      "Requirement already satisfied: requests-toolbelt<2.0.0,>=1.0.0 in c:\\users\\anura\\anaconda3\\lib\\site-packages (from langsmith>=0.1.125->langchain_community) (1.0.0)\n",
      "Requirement already satisfied: zstandard<0.24.0,>=0.23.0 in c:\\users\\anura\\anaconda3\\lib\\site-packages (from langsmith>=0.1.125->langchain_community) (0.23.0)\n",
      "Requirement already satisfied: python-dotenv>=0.21.0 in c:\\users\\anura\\anaconda3\\lib\\site-packages (from pydantic-settings<3.0.0,>=2.4.0->langchain_community) (0.21.0)\n",
      "Requirement already satisfied: charset-normalizer<4,>=2 in c:\\users\\anura\\anaconda3\\lib\\site-packages (from requests<3,>=2->langchain_community) (3.3.2)\n",
      "Requirement already satisfied: idna<4,>=2.5 in c:\\users\\anura\\anaconda3\\lib\\site-packages (from requests<3,>=2->langchain_community) (3.7)\n",
      "Requirement already satisfied: urllib3<3,>=1.21.1 in c:\\users\\anura\\anaconda3\\lib\\site-packages (from requests<3,>=2->langchain_community) (2.2.3)\n",
      "Requirement already satisfied: certifi>=2017.4.17 in c:\\users\\anura\\anaconda3\\lib\\site-packages (from requests<3,>=2->langchain_community) (2025.4.26)\n",
      "Requirement already satisfied: greenlet!=0.4.17 in c:\\users\\anura\\anaconda3\\lib\\site-packages (from SQLAlchemy<3,>=1.4->langchain_community) (3.0.1)\n",
      "Requirement already satisfied: anyio in c:\\users\\anura\\anaconda3\\lib\\site-packages (from httpx<1,>=0.23.0->langsmith>=0.1.125->langchain_community) (4.2.0)\n",
      "Requirement already satisfied: httpcore==1.* in c:\\users\\anura\\anaconda3\\lib\\site-packages (from httpx<1,>=0.23.0->langsmith>=0.1.125->langchain_community) (1.0.2)\n",
      "Requirement already satisfied: sniffio in c:\\users\\anura\\anaconda3\\lib\\site-packages (from httpx<1,>=0.23.0->langsmith>=0.1.125->langchain_community) (1.3.0)\n",
      "Requirement already satisfied: h11<0.15,>=0.13 in c:\\users\\anura\\anaconda3\\lib\\site-packages (from httpcore==1.*->httpx<1,>=0.23.0->langsmith>=0.1.125->langchain_community) (0.14.0)\n",
      "Requirement already satisfied: jsonpointer>=1.9 in c:\\users\\anura\\anaconda3\\lib\\site-packages (from jsonpatch<2.0,>=1.33->langchain-core<1.0.0,>=0.3.66->langchain_community) (2.1)\n",
      "Requirement already satisfied: annotated-types>=0.4.0 in c:\\users\\anura\\anaconda3\\lib\\site-packages (from pydantic<3.0.0,>=2.7.4->langchain<1.0.0,>=0.3.26->langchain_community) (0.6.0)\n",
      "Requirement already satisfied: pydantic-core==2.20.1 in c:\\users\\anura\\anaconda3\\lib\\site-packages (from pydantic<3.0.0,>=2.7.4->langchain<1.0.0,>=0.3.26->langchain_community) (2.20.1)\n",
      "Requirement already satisfied: mypy-extensions>=0.3.0 in c:\\users\\anura\\anaconda3\\lib\\site-packages (from typing-inspect<1,>=0.4.0->dataclasses-json<0.7,>=0.5.7->langchain_community) (1.0.0)\n",
      "Note: you may need to restart the kernel to use updated packages.\n"
     ]
    }
   ],
   "source": [
    "%pip install langchain\n",
    "%pip install langchain_groq\n",
    "%pip install langchain_community"
   ]
  },
  {
   "cell_type": "code",
   "execution_count": 2,
   "id": "89c8261b-d08f-4d5c-993e-84a6906048b5",
   "metadata": {},
   "outputs": [
    {
     "name": "stderr",
     "output_type": "stream",
     "text": [
      "USER_AGENT environment variable not set, consider setting it to identify your requests.\n"
     ]
    }
   ],
   "source": [
    "from langchain_community.document_loaders import WebBaseLoader"
   ]
  },
  {
   "cell_type": "code",
   "execution_count": 3,
   "id": "e6096ca0-fa96-4557-870a-81fd17aabef1",
   "metadata": {},
   "outputs": [
    {
     "name": "stdout",
     "output_type": "stream",
     "text": [
      "The first person to land on the moon was Neil Armstrong. He stepped out of the lunar module Eagle and onto the moon's surface on July 20, 1969, during the Apollo 11 mission.\n"
     ]
    }
   ],
   "source": [
    "from langchain_groq import ChatGroq\n",
    "\n",
    "llm= ChatGroq(\n",
    "    temperature=0,\n",
    "    groq_api_key='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',\n",
    "    model_name=\"llama-3.1-8b-instant\"\n",
    ")\n",
    "# this question went to groq cloud and it asks this question llama-3.3-70b-versatile model and it recieved the response.\n",
    "response=llm.invoke(\"The first person to land on moon was ..\")\n",
    "print(response.content)"
   ]
  },
  {
   "cell_type": "code",
   "execution_count": 7,
   "id": "c4772859-cb16-4ebc-96d0-39e43661e6ce",
   "metadata": {},
   "outputs": [
    {
     "name": "stdout",
     "output_type": "stream",
     "text": [
      "\n",
      "\n",
      "AI Research Scientist, CoreML - Monetization AI | Meta Careers\n",
      "\n",
      "\n",
      "\n",
      "\n",
      "\n",
      "\n",
      "\n",
      "\n",
      "\n",
      "\n",
      "\n",
      "\n",
      "\n",
      "AI Research Scientist, CoreML - Monetization AISunnyvale, CA • Bellevue, WA • New York, NY • Full Time+ 2 more•Full Time - HideMetaAI ResearchEngineeringApply to this jobWe are the Monetization Ranking AI Research organization, dedicated to delivering personalized ads that maximize both user utility and advertiser value. We focus on advancing AI and ML technologies for all aspects of Monetization, including ranking, retrieval, model architecture, and optimization. By consistently integrating cutting-edge AI/ML advancements, we help Meta’s products achieve long-term goals and have contributed tens of billions in revenue. With our growing impact, we’re seeking AI Research Scientists to join our team and drive SOTA research across the Monetization organization.AI Research Scientist, CoreML - Monetization AI ResponsibilitiesDevelop and implement large-scale model architectures, leveraging model scaling and transfer learning techniquesPrioritize training scalability and signal scaling to optimize model performance, efficiency, and reliabilityDevelop and apply NextGen sequence learning techniques to drive advancements in natural language processing and understandingDesign and implement generative modeling solutions for data augmentationResearch and develop graph-aware large language modelsDevelop and deploy AutoML pipelinesApply Reinforcement Learning (RL) techniques, including long-term value optimization, RLHF, and RL4ReasonUse causal learning to identify and understand the cause and effect of relationships across dataCollaborate with cross-functional teams to design and optimize ML systems, leveraging expertise in hardware-software co-design, including quantization, compression, and resource-efficient AI, to drive performance improvements and efficiency gainsDevelop and implement innovative solutions for data-related challenges, utilizing knowledge of semi/self-supervised learning, generative techniques, sampling, debiasing, domain adaptation, continual learning, data augmentation, cold-start, content understanding, and large language modelsMinimum QualificationsBachelor's degree in Computer Science, Computer Engineering, relevant technical field, or equivalent practical experience.Has obtained a PhD in Computer Science, Computer Engineering, Artificial Intelligence, Machine Learning, or relevant technical field.Experience holding an industry, faculty, or government researcher position.Research experience in natural language processing, large language modeling, deep learning, reinforcement learning, recommendations, ranking, search, or related areas.Publications in machine learning, artificial intelligence, or related field.Programming experience in Python and hands-on experience with frameworks such as PyTorch.Must obtain work authorization in the country of employment at the time of hire and maintain ongoing work authorization during employment.Preferred QualificationsExperience taking ideas from research to production.First author publications at peer-reviewed AI conferences (e.g., NeurIPS, CVPR, ICML, ICLR, ICCV, and ACL).Experience solving complex problems and comparing alternative solutions, tradeoffs, and different perspectives to determine a path forward. For those who live in or expect to work from California if hired for this position, please click here for additional information. About Meta Meta builds technologies that help people connect, find communities, and grow businesses. When Facebook launched in 2004, it changed the way people connect. Apps like Messenger, Instagram and WhatsApp further empowered billions around the world. Now, Meta is moving beyond 2D screens toward immersive experiences like augmented and virtual reality to help build the next evolution in social technology. People who choose to build their careers by building with us at Meta help shape a future that will take us beyond what digital connection makes possible today—beyond the constraints of screens, the limits of distance, and even the rules of physics. $147,000/year to $208,000/year + bonus + equity + benefitsIndividual compensation is determined by skills, qualifications, experience, and location. Compensation details listed in this posting reflect the base hourly rate, monthly rate, or annual salary only, and do not include bonus, equity or sales incentives, if applicable. In addition to base compensation, Meta offers benefits. Learn more about benefits at Meta.  Equal Employment Opportunity  Meta is proud to be an Equal Employment Opportunity employer. We do not discriminate based upon race, religion, color, national origin, sex (including pregnancy, childbirth, reproductive health decisions, or related medical conditions), sexual orientation, gender identity, gender expression, age, status as a protected veteran, status as an individual with a disability, genetic information, political views or activity, or other applicable legally protected characteristics. You may view our Equal Employment Opportunity notice here.  Meta is committed to providing reasonable accommodations for qualified individuals with disabilities and disabled veterans in our job application procedures. If you need assistance or an accommodation due to a disability, fill out the Accommodations request form. Apply for this jobTake the first step toward a rewarding career at Meta.Apply to this jobAPPLY NOWFind your roleExplore jobs that match your skills and experience. Search by technology, team or location to find an opening that’s right for you.View jobsCareersFollow usJob searchCareer programsResearchStudents and gradsRotational Product ManagementTeamsBusiness teamsTechnology teamsWorking at MetaAccessibility and EngagementBenefitsCultureHiring processMy accountCareer profileAccount settingsMessagesMeta Careers blogAbout usAbout MetaMedia galleryBrand resourcesFor investorsLooking for contractor roles?Equal Employment OpportunityMeta is proud to be an Equal Employment Opportunity employer. We do not discriminate based upon race, religion, color, national origin, sex (including pregnancy, childbirth, reproductive health decisions, or related medical conditions), sexual orientation, gender identity, gender expression, age, status as a protected veteran, status as an individual with a disability, genetic information, political views or activity, or other applicable legally protected characteristics. You may view our Equal Employment Opportunity notice here.Meta is committed to providing reasonable support (called accommodations) in our recruiting processes for candidates with disabilities, long term conditions, mental health conditions or sincerely held religious beliefs, or who are neurodivergent or require pregnancy-related support. If you need assistance or an accommodation due to a disability, fill out the  Accommodations request form .© 2025 MetaCommunity StandardsData PolicyTermsCookie Policy\n",
      "\n",
      "\n",
      "\n",
      "\n",
      "\n",
      "\n",
      "\n",
      "\n",
      "\n",
      "\n",
      "\n",
      "\n",
      "\n",
      "\n",
      "\n",
      "\n",
      "\n",
      "\n",
      "\n",
      "\n",
      "\n",
      "\n",
      "\n",
      "\n",
      "\n",
      "\n",
      "\n",
      "\n",
      "\n",
      "\n",
      "\n",
      "\n",
      "\n",
      "\n",
      "\n",
      "\n",
      "\n",
      "\n",
      "\n",
      "\n",
      "\n",
      "\n",
      "\n",
      "\n",
      "\n",
      "\n",
      "\n",
      "\n",
      "\n",
      "\n",
      "\n",
      "\n",
      "\n",
      "\n",
      "\n",
      "\n",
      "\n",
      "\n",
      "\n",
      "\n",
      "\n",
      "\n",
      "\n",
      "\n"
     ]
    }
   ],
   "source": [
    "from langchain_community.document_loaders import WebBaseLoader\n",
    "\n",
    "loader = WebBaseLoader(\"https://www.metacareers.com/jobs/1380974339703907/\")\n",
    "# from above URL it extracted all the key info from the HTML structure in the above website and saved in page_data\n",
    "page_data=loader.load().pop().page_content\n",
    "print(page_data)"
   ]
  },
  {
   "cell_type": "code",
   "execution_count": 8,
   "id": "25549d72-11d1-4315-bb05-20a93c66d153",
   "metadata": {},
   "outputs": [
    {
     "name": "stdout",
     "output_type": "stream",
     "text": [
      "```json\n",
      "[\n",
      "  {\n",
      "    \"role\": \"AI Research Scientist, CoreML - Monetization AI\",\n",
      "    \"experience\": \"Has obtained a PhD in Computer Science, Computer Engineering, Artificial Intelligence, Machine Learning, or relevant technical field.\",\n",
      "    \"skills\": [\n",
      "      \"Develop and implement large-scale model architectures, leveraging model scaling and transfer learning techniques\",\n",
      "      \"Prioritize training scalability and signal scaling to optimize model performance, efficiency, and reliability\",\n",
      "      \"Develop and apply NextGen sequence learning techniques to drive advancements in natural language processing and understanding\",\n",
      "      \"Design and implement generative modeling solutions for data augmentation\",\n",
      "      \"Research and develop graph-aware large language models\",\n",
      "      \"Develop and deploy AutoML pipelines\",\n",
      "      \"Apply Reinforcement Learning (RL) techniques, including long-term value optimization, RLHF, and RL4Reason\",\n",
      "      \"Use causal learning to identify and understand the cause and effect of relationships across data\",\n",
      "      \"Collaborate with cross-functional teams to design and optimize ML systems, leveraging expertise in hardware-software co-design, including quantization, compression, and resource-efficient AI, to drive performance improvements and efficiency gains\",\n",
      "      \"Develop and implement innovative solutions for data-related challenges, utilizing knowledge of semi/self-supervised learning, generative techniques, sampling, debiasing, domain adaptation, continual learning, data augmentation, cold-start, content understanding, and large language models\"\n",
      "    ],\n",
      "    \"description\": \"We are the Monetization Ranking AI Research organization, dedicated to delivering personalized ads that maximize both user utility and advertiser value. We focus on advancing AI and ML technologies for all aspects of Monetization, including ranking, retrieval, model architecture, and optimization.\"\n",
      "  }\n",
      "]\n",
      "```\n",
      "\n",
      "Note: The scraped text does not contain multiple job postings, so the JSON output contains only one job posting.\n"
     ]
    },
    {
     "data": {
      "text/plain": [
       "str"
      ]
     },
     "execution_count": 8,
     "metadata": {},
     "output_type": "execute_result"
    }
   ],
   "source": [
    "from langchain_core.prompts import PromptTemplate\n",
    "\n",
    "prompt_extract= PromptTemplate.from_template(\n",
    "    \"\"\"\n",
    "    ### SCRAPED TEXT FROM WEBSITE:\n",
    "    {page_data}\n",
    "    ### INSTRUCTION:\n",
    "    The scraped text is from the carrer's page of a website.\n",
    "    Your job is to extract the job postings and return them in JSON format containing the\n",
    "    following keys: 'role', 'experience', 'skills', and 'description'.\n",
    "    Only return the valid JSON.\n",
    "    ### VALID JSON (NO PREAMBLE):\n",
    "    \"\"\"\n",
    ")\n",
    "\n",
    "chain_extract = prompt_extract | llm\n",
    "res = chain_extract.invoke(input={'page_data':page_data})\n",
    "print(res.content)\n",
    "type(res.content)"
   ]
  },
  {
   "cell_type": "code",
   "execution_count": 9,
   "id": "0ed39371-f059-4880-b3b3-4739974b9caa",
   "metadata": {},
   "outputs": [
    {
     "data": {
      "text/plain": [
       "[{'role': 'AI Research Scientist, CoreML - Monetization AI',\n",
       "  'experience': 'Has obtained a PhD in Computer Science, Computer Engineering, Artificial Intelligence, Machine Learning, or relevant technical field.',\n",
       "  'skills': ['Develop and implement large-scale model architectures, leveraging model scaling and transfer learning techniques',\n",
       "   'Prioritize training scalability and signal scaling to optimize model performance, efficiency, and reliability',\n",
       "   'Develop and apply NextGen sequence learning techniques to drive advancements in natural language processing and understanding',\n",
       "   'Design and implement generative modeling solutions for data augmentation',\n",
       "   'Research and develop graph-aware large language models',\n",
       "   'Develop and deploy AutoML pipelines',\n",
       "   'Apply Reinforcement Learning (RL) techniques, including long-term value optimization, RLHF, and RL4Reason',\n",
       "   'Use causal learning to identify and understand the cause and effect of relationships across data',\n",
       "   'Collaborate with cross-functional teams to design and optimize ML systems, leveraging expertise in hardware-software co-design, including quantization, compression, and resource-efficient AI, to drive performance improvements and efficiency gains',\n",
       "   'Develop and implement innovative solutions for data-related challenges, utilizing knowledge of semi/self-supervised learning, generative techniques, sampling, debiasing, domain adaptation, continual learning, data augmentation, cold-start, content understanding, and large language models'],\n",
       "  'description': 'We are the Monetization Ranking AI Research organization, dedicated to delivering personalized ads that maximize both user utility and advertiser value. We focus on advancing AI and ML technologies for all aspects of Monetization, including ranking, retrieval, model architecture, and optimization.'}]"
      ]
     },
     "execution_count": 9,
     "metadata": {},
     "output_type": "execute_result"
    }
   ],
   "source": [
    "# To convert the text into JSON object we use JSON parser\n",
    "\n",
    "from langchain_core.output_parsers import JsonOutputParser\n",
    "\n",
    "\n",
    "json_parser = JsonOutputParser()\n",
    "json_res = json_parser.parse(res.content)\n",
    "json_res"
   ]
  },
  {
   "cell_type": "code",
   "execution_count": 10,
   "id": "2c7080b4-ca8f-4ade-99de-8b657da95110",
   "metadata": {},
   "outputs": [
    {
     "data": {
      "text/plain": [
       "list"
      ]
     },
     "execution_count": 10,
     "metadata": {},
     "output_type": "execute_result"
    }
   ],
   "source": [
    "type(json_res)"
   ]
  },
  {
   "cell_type": "code",
   "execution_count": 12,
   "id": "30b1200f-9cce-4f91-9bd9-1f736312b832",
   "metadata": {},
   "outputs": [
    {
     "data": {
      "text/html": [
       "<div>\n",
       "<style scoped>\n",
       "    .dataframe tbody tr th:only-of-type {\n",
       "        vertical-align: middle;\n",
       "    }\n",
       "\n",
       "    .dataframe tbody tr th {\n",
       "        vertical-align: top;\n",
       "    }\n",
       "\n",
       "    .dataframe thead th {\n",
       "        text-align: right;\n",
       "    }\n",
       "</style>\n",
       "<table border=\"1\" class=\"dataframe\">\n",
       "  <thead>\n",
       "    <tr style=\"text-align: right;\">\n",
       "      <th></th>\n",
       "      <th>Techstack</th>\n",
       "      <th>Links</th>\n",
       "    </tr>\n",
       "  </thead>\n",
       "  <tbody>\n",
       "    <tr>\n",
       "      <th>0</th>\n",
       "      <td>React, Node.js, MongoDB</td>\n",
       "      <td>https://example.com/react-portfolio</td>\n",
       "    </tr>\n",
       "    <tr>\n",
       "      <th>1</th>\n",
       "      <td>Angular,.NET, SQL Server</td>\n",
       "      <td>https://example.com/angular-portfolio</td>\n",
       "    </tr>\n",
       "    <tr>\n",
       "      <th>2</th>\n",
       "      <td>Vue.js, Ruby on Rails, PostgreSQL</td>\n",
       "      <td>https://example.com/vue-portfolio</td>\n",
       "    </tr>\n",
       "    <tr>\n",
       "      <th>3</th>\n",
       "      <td>Python, Django, MySQL</td>\n",
       "      <td>https://example.com/python-portfolio</td>\n",
       "    </tr>\n",
       "    <tr>\n",
       "      <th>4</th>\n",
       "      <td>Java, Spring Boot, Oracle</td>\n",
       "      <td>https://example.com/java-portfolio</td>\n",
       "    </tr>\n",
       "    <tr>\n",
       "      <th>5</th>\n",
       "      <td>Flutter, Firebase, GraphQL</td>\n",
       "      <td>https://example.com/flutter-portfolio</td>\n",
       "    </tr>\n",
       "    <tr>\n",
       "      <th>6</th>\n",
       "      <td>WordPress, PHP, MySQL</td>\n",
       "      <td>https://example.com/wordpress-portfolio</td>\n",
       "    </tr>\n",
       "    <tr>\n",
       "      <th>7</th>\n",
       "      <td>Magento, PHP, MySQL</td>\n",
       "      <td>https://example.com/magento-portfolio</td>\n",
       "    </tr>\n",
       "    <tr>\n",
       "      <th>8</th>\n",
       "      <td>React Native, Node.js, MongoDB</td>\n",
       "      <td>https://example.com/react-native-portfolio</td>\n",
       "    </tr>\n",
       "    <tr>\n",
       "      <th>9</th>\n",
       "      <td>iOS, Swift, Core Data</td>\n",
       "      <td>https://example.com/ios-portfolio</td>\n",
       "    </tr>\n",
       "    <tr>\n",
       "      <th>10</th>\n",
       "      <td>Android, Java, Room Persistence</td>\n",
       "      <td>https://example.com/android-portfolio</td>\n",
       "    </tr>\n",
       "    <tr>\n",
       "      <th>11</th>\n",
       "      <td>Kotlin, Android, Firebase</td>\n",
       "      <td>https://example.com/kotlin-android-portfolio</td>\n",
       "    </tr>\n",
       "    <tr>\n",
       "      <th>12</th>\n",
       "      <td>Android TV, Kotlin, Android NDK</td>\n",
       "      <td>https://example.com/android-tv-portfolio</td>\n",
       "    </tr>\n",
       "    <tr>\n",
       "      <th>13</th>\n",
       "      <td>iOS, Swift, ARKit</td>\n",
       "      <td>https://example.com/ios-ar-portfolio</td>\n",
       "    </tr>\n",
       "    <tr>\n",
       "      <th>14</th>\n",
       "      <td>Cross-platform, Xamarin, Azure</td>\n",
       "      <td>https://example.com/xamarin-portfolio</td>\n",
       "    </tr>\n",
       "    <tr>\n",
       "      <th>15</th>\n",
       "      <td>Backend, Kotlin, Spring Boot</td>\n",
       "      <td>https://example.com/kotlin-backend-portfolio</td>\n",
       "    </tr>\n",
       "    <tr>\n",
       "      <th>16</th>\n",
       "      <td>Frontend, TypeScript, Angular</td>\n",
       "      <td>https://example.com/typescript-frontend-portfolio</td>\n",
       "    </tr>\n",
       "    <tr>\n",
       "      <th>17</th>\n",
       "      <td>Full-stack, JavaScript, Express.js</td>\n",
       "      <td>https://example.com/full-stack-js-portfolio</td>\n",
       "    </tr>\n",
       "    <tr>\n",
       "      <th>18</th>\n",
       "      <td>Machine Learning, Python, TensorFlow</td>\n",
       "      <td>https://example.com/ml-python-portfolio</td>\n",
       "    </tr>\n",
       "    <tr>\n",
       "      <th>19</th>\n",
       "      <td>DevOps, Jenkins, Docker</td>\n",
       "      <td>https://example.com/devops-portfolio</td>\n",
       "    </tr>\n",
       "  </tbody>\n",
       "</table>\n",
       "</div>"
      ],
      "text/plain": [
       "                               Techstack  \\\n",
       "0                React, Node.js, MongoDB   \n",
       "1               Angular,.NET, SQL Server   \n",
       "2      Vue.js, Ruby on Rails, PostgreSQL   \n",
       "3                  Python, Django, MySQL   \n",
       "4              Java, Spring Boot, Oracle   \n",
       "5             Flutter, Firebase, GraphQL   \n",
       "6                  WordPress, PHP, MySQL   \n",
       "7                    Magento, PHP, MySQL   \n",
       "8         React Native, Node.js, MongoDB   \n",
       "9                  iOS, Swift, Core Data   \n",
       "10       Android, Java, Room Persistence   \n",
       "11             Kotlin, Android, Firebase   \n",
       "12       Android TV, Kotlin, Android NDK   \n",
       "13                     iOS, Swift, ARKit   \n",
       "14        Cross-platform, Xamarin, Azure   \n",
       "15          Backend, Kotlin, Spring Boot   \n",
       "16         Frontend, TypeScript, Angular   \n",
       "17    Full-stack, JavaScript, Express.js   \n",
       "18  Machine Learning, Python, TensorFlow   \n",
       "19               DevOps, Jenkins, Docker   \n",
       "\n",
       "                                                Links  \n",
       "0                 https://example.com/react-portfolio  \n",
       "1               https://example.com/angular-portfolio  \n",
       "2                   https://example.com/vue-portfolio  \n",
       "3                https://example.com/python-portfolio  \n",
       "4                  https://example.com/java-portfolio  \n",
       "5               https://example.com/flutter-portfolio  \n",
       "6             https://example.com/wordpress-portfolio  \n",
       "7               https://example.com/magento-portfolio  \n",
       "8          https://example.com/react-native-portfolio  \n",
       "9                   https://example.com/ios-portfolio  \n",
       "10              https://example.com/android-portfolio  \n",
       "11       https://example.com/kotlin-android-portfolio  \n",
       "12           https://example.com/android-tv-portfolio  \n",
       "13               https://example.com/ios-ar-portfolio  \n",
       "14              https://example.com/xamarin-portfolio  \n",
       "15       https://example.com/kotlin-backend-portfolio  \n",
       "16  https://example.com/typescript-frontend-portfolio  \n",
       "17        https://example.com/full-stack-js-portfolio  \n",
       "18            https://example.com/ml-python-portfolio  \n",
       "19               https://example.com/devops-portfolio  "
      ]
     },
     "execution_count": 12,
     "metadata": {},
     "output_type": "execute_result"
    }
   ],
   "source": [
    "import pandas as pd\n",
    "\n",
    "df = pd.read_csv(\"my_portfolio.csv\")\n",
    "df"
   ]
  },
  {
   "cell_type": "code",
   "execution_count": 13,
   "id": "96d36d12-0c6a-4452-bfe4-4f8d4567ff16",
   "metadata": {},
   "outputs": [],
   "source": [
    "import chromadb\n",
    "import uuid\n",
    "\n",
    "client = chromadb.PersistentClient('vectorstore')\n",
    "collection = client.get_or_create_collection(name=\"portfolio\")\n",
    "\n",
    "if not collection.count():\n",
    "    for _, row in df.iterrows():\n",
    "        collection.add(documents=row[\"Techstack\"],\n",
    "                       metadatas={\"links\": row[\"Links\"]},\n",
    "                       ids=[str(uuid.uuid4())])"
   ]
  },
  {
   "cell_type": "code",
   "execution_count": 14,
   "id": "ab4384a6-9f0e-4cad-b3f0-2a228c288dc0",
   "metadata": {},
   "outputs": [
    {
     "data": {
      "text/plain": [
       "[[{'links': 'https://example.com/ml-python-portfolio'},\n",
       "  {'links': 'https://example.com/python-portfolio'}],\n",
       " [{'links': 'https://example.com/ml-python-portfolio'},\n",
       "  {'links': 'https://example.com/ios-portfolio'}]]"
      ]
     },
     "execution_count": 14,
     "metadata": {},
     "output_type": "execute_result"
    }
   ],
   "source": [
    "links =  collection.query(query_texts=[\"Experience in Python\", \"Expertise in Data Science\"], n_results=2).get('metadatas')\n",
    "links"
   ]
  },
  {
   "cell_type": "code",
   "execution_count": 16,
   "id": "aeb4dbc5-8829-4f78-8955-fe4541711ba0",
   "metadata": {},
   "outputs": [
    {
     "data": {
      "text/plain": [
       "[{'role': 'AI Research Scientist, CoreML - Monetization AI',\n",
       "  'experience': 'Has obtained a PhD in Computer Science, Computer Engineering, Artificial Intelligence, Machine Learning, or relevant technical field.',\n",
       "  'skills': ['Develop and implement large-scale model architectures, leveraging model scaling and transfer learning techniques',\n",
       "   'Prioritize training scalability and signal scaling to optimize model performance, efficiency, and reliability',\n",
       "   'Develop and apply NextGen sequence learning techniques to drive advancements in natural language processing and understanding',\n",
       "   'Design and implement generative modeling solutions for data augmentation',\n",
       "   'Research and develop graph-aware large language models',\n",
       "   'Develop and deploy AutoML pipelines',\n",
       "   'Apply Reinforcement Learning (RL) techniques, including long-term value optimization, RLHF, and RL4Reason',\n",
       "   'Use causal learning to identify and understand the cause and effect of relationships across data',\n",
       "   'Collaborate with cross-functional teams to design and optimize ML systems, leveraging expertise in hardware-software co-design, including quantization, compression, and resource-efficient AI, to drive performance improvements and efficiency gains',\n",
       "   'Develop and implement innovative solutions for data-related challenges, utilizing knowledge of semi/self-supervised learning, generative techniques, sampling, debiasing, domain adaptation, continual learning, data augmentation, cold-start, content understanding, and large language models'],\n",
       "  'description': 'We are the Monetization Ranking AI Research organization, dedicated to delivering personalized ads that maximize both user utility and advertiser value. We focus on advancing AI and ML technologies for all aspects of Monetization, including ranking, retrieval, model architecture, and optimization.'}]"
      ]
     },
     "execution_count": 16,
     "metadata": {},
     "output_type": "execute_result"
    }
   ],
   "source": [
    "job=json_res\n",
    "job"
   ]
  },
  {
   "cell_type": "code",
   "execution_count": 29,
   "id": "87a6ae70-965a-4444-a415-642148d30b2b",
   "metadata": {},
   "outputs": [
    {
     "data": {
      "text/plain": [
       "[[{'links': 'https://example.com/ml-python-portfolio'},\n",
       "  {'links': 'https://example.com/python-portfolio'}],\n",
       " [{'links': 'https://example.com/ml-python-portfolio'},\n",
       "  {'links': 'https://example.com/python-portfolio'}],\n",
       " [{'links': 'https://example.com/ml-python-portfolio'},\n",
       "  {'links': 'https://example.com/ios-portfolio'}],\n",
       " [{'links': 'https://example.com/ml-python-portfolio'},\n",
       "  {'links': 'https://example.com/java-portfolio'}],\n",
       " [{'links': 'https://example.com/ml-python-portfolio'},\n",
       "  {'links': 'https://example.com/kotlin-backend-portfolio'}],\n",
       " [{'links': 'https://example.com/ml-python-portfolio'},\n",
       "  {'links': 'https://example.com/flutter-portfolio'}],\n",
       " [{'links': 'https://example.com/devops-portfolio'},\n",
       "  {'links': 'https://example.com/ml-python-portfolio'}],\n",
       " [{'links': 'https://example.com/ml-python-portfolio'},\n",
       "  {'links': 'https://example.com/kotlin-backend-portfolio'}],\n",
       " [{'links': 'https://example.com/ml-python-portfolio'},\n",
       "  {'links': 'https://example.com/android-tv-portfolio'}]]"
      ]
     },
     "execution_count": 29,
     "metadata": {},
     "output_type": "execute_result"
    }
   ],
   "source": [
    "links =  collection.query(query_texts=job['skills'], n_results=2).get('metadatas')\n",
    "links"
   ]
  },
  {
   "cell_type": "code",
   "execution_count": 35,
   "id": "b8a16ee9-ffc1-4489-a4f3-f3f4b4534b1c",
   "metadata": {},
   "outputs": [],
   "source": [
    "prompt_email = PromptTemplate.from_template(\n",
    "    \"\"\"\n",
    "    ### JOB DESCRIPTION:\n",
    "     ### JOB DESCRIPTION:\n",
    "        {job_description}\n",
    "        \n",
    "        ### INSTRUCTION:\n",
    "        You are Vamsi Adi, a Software Engineer at Infosys Ltd. Infosys Ltd is an AI & Software Consulting company dedicated to facilitating\n",
    "        the seamless integration of business processes through automated tools. \n",
    "        Over our experience, I have empowered numerous enterprises with tailored solutions, fostering scalability, \n",
    "        process optimization, cost reduction, and heightened overall efficiency. \n",
    "        Your job is to write a cold email to the client regarding the job mentioned above describing the capability of Vamsi        in fulfilling their needs.\n",
    "        Also add the most relevant ones from the following links to showcase Vamsi's portfolio: {link_list}\n",
    "        Remember you are Vamsi Adi, Software Engineer  at Infosys Ltd. \n",
    "        Do not provide a preamble.\n",
    "        ### EMAIL (NO PREAMBLE):\n",
    "        \n",
    "        \"\"\"\n",
    ")"
   ]
  },
  {
   "cell_type": "code",
   "execution_count": 36,
   "id": "70474ff6-3661-40a6-ad1b-44443622ca48",
   "metadata": {},
   "outputs": [
    {
     "name": "stdout",
     "output_type": "stream",
     "text": [
      "Subject: Expert AI Solutions for CoreML - Monetization AI\n",
      "\n",
      "Dear Hiring Manager,\n",
      "\n",
      "I came across the job description for an AI Research Scientist, CoreML - Monetization AI, and I am excited to introduce myself as a strong candidate who can fulfill your requirements. As a Software Engineer at Infosys Ltd, I have a proven track record of empowering enterprises with tailored AI and software solutions, driving scalability, process optimization, cost reduction, and heightened overall efficiency.\n",
      "\n",
      "With a strong foundation in computer science and software engineering, I possess the necessary skills to develop and implement large-scale model architectures, prioritize training scalability, and optimize model performance, efficiency, and reliability. My expertise in Python, PyTorch, and machine learning techniques, including model scaling and transfer learning, next-generation sequence learning, generative modeling, and reinforcement learning, aligns perfectly with your job requirements.\n",
      "\n",
      "I would like to highlight my proficiency in designing and optimizing ML systems, leveraging expertise in hardware-software co-design to drive performance improvements and efficiency gains. My experience in collaborating with cross-functional teams to design and optimize ML systems will enable me to make a significant impact in your organization.\n",
      "\n",
      "To demonstrate my capabilities, I would like to share some relevant projects from my portfolio:\n",
      "\n",
      "* https://example.com/ml-python-portfolio (Machine Learning and Python projects)\n",
      "* https://example.com/python-portfolio (Python-based projects)\n",
      "\n",
      "These projects showcase my expertise in machine learning, Python, and software development, which are essential for the AI Research Scientist role. I am confident that my skills and experience make me an ideal candidate for this position.\n",
      "\n",
      "I would welcome the opportunity to discuss my application and how I can contribute to the success of your team. Please feel free to contact me to arrange a convenient time for a call.\n",
      "\n",
      "Thank you for considering my application. I look forward to the opportunity to discuss this further.\n",
      "\n",
      "Best regards,\n",
      "Vamsi Adi\n",
      "Software Engineer, Infosys Ltd.\n"
     ]
    }
   ],
   "source": [
    "chain_email = prompt_email | llm\n",
    "res = chain_email.invoke({\"job_description\": str(job), \"link_list\": links})\n",
    "print(res.content)"
   ]
  },
  {
   "cell_type": "code",
   "execution_count": null,
   "id": "3941072c-1348-4baa-851d-a7703141153a",
   "metadata": {},
   "outputs": [],
   "source": []
  }
 ],
 "metadata": {
  "kernelspec": {
   "display_name": "Python [conda env:base] *",
   "language": "python",
   "name": "conda-base-py"
  },
  "language_info": {
   "codemirror_mode": {
    "name": "ipython",
    "version": 3
   },
   "file_extension": ".py",
   "mimetype": "text/x-python",
   "name": "python",
   "nbconvert_exporter": "python",
   "pygments_lexer": "ipython3",
   "version": "3.12.7"
  }
 },
 "nbformat": 4,
 "nbformat_minor": 5
}
